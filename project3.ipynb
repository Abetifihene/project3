{
 "cells": [
  {
   "cell_type": "code",
   "execution_count": 2,
   "metadata": {},
   "outputs": [],
   "source": [
    "from pyspark.sql.types import BooleanType\n",
    "from pyspark.sql.functions import udf\n",
    "from pyspark.sql import functions as F\n",
    "from pyspark.sql import SparkSession\n",
    "from pyspark.sql import Window\n",
    "from pyspark.ml.feature import Tokenizer\n",
    "from pyspark.ml.feature import NGram\n"
   ]
  },
  {
   "cell_type": "code",
   "execution_count": 3,
   "metadata": {},
   "outputs": [],
   "source": [
    "spark = SparkSession.builder.getOrCreate()"
   ]
  },
  {
   "cell_type": "code",
   "execution_count": 4,
   "metadata": {},
   "outputs": [],
   "source": [
    "companies = spark.read.csv(\n",
    "            \"companies.csv\", \n",
    "            header=True, inferSchema=True)\n",
    "alldat = spark.read.csv('alldata.csv',\n",
    "                       header=True, inferSchema=True)"
   ]
  },
  {
   "cell_type": "code",
   "execution_count": 5,
   "metadata": {},
   "outputs": [
    {
     "data": {
      "text/plain": [
       "7310"
      ]
     },
     "execution_count": 5,
     "metadata": {},
     "output_type": "execute_result"
    }
   ],
   "source": [
    "companies.count()\n"
   ]
  },
  {
   "cell_type": "code",
   "execution_count": 6,
   "metadata": {},
   "outputs": [
    {
     "name": "stdout",
     "output_type": "stream",
     "text": [
      "+--------------------+--------------------+--------------------+--------------------+--------------------+--------------------+---------+--------------------+--------------------+-----------+------------------+------------------+--------------------+--------------------+\n",
      "|              ticker|        company name|          short name|            industry|         description|             website|     logo|                 ceo|            exchange| market cap|            sector|             tag 1|               tag 2|               tag 3|\n",
      "+--------------------+--------------------+--------------------+--------------------+--------------------+--------------------+---------+--------------------+--------------------+-----------+------------------+------------------+--------------------+--------------------+\n",
      "|                   A|Agilent Technolog...|             Agilent|Medical Diagnosti...|Agilent Technolog...|http://www.agilen...|    A.png| Michael R. McMullen|New York Stock Ex...|24218068096|        Healthcare|        Healthcare|Diagnostics & Res...|Medical Diagnosti...|\n",
      "|                  AA|   Alcoa Corporation|               Alcoa|     Metals & Mining|Alcoa Corp is an ...|http://www.alcoa.com|   AA.png|Roy Christopher H...|New York Stock Ex...| 5374966543|   Basic Materials|   Basic Materials|            Aluminum|     Metals & Mining|\n",
      "|                AABA|         Altaba Inc.|              Altaba|    Asset Management|Altaba Inc is an ...|http://www.altaba...| AABA.png| Thomas J. Mcinerney|Nasdaq Global Select|41223683414|Financial Services|Financial Services|    Asset Management|                null|\n",
      "|                 AAC|   AAC Holdings Inc.|                 AAC|Health Care Provi...|AAC Holdings Inc ...|http://www.americ...|     null|Michael T. Cartwr...|New York Stock Ex...|   63720099|        Healthcare|        Healthcare|        Medical Care|Health Care Provi...|\n",
      "|                AADR|AdvisorShares Dor...|AdvisorShares Dor...|                null|The investment se...|                null|     null|                null|                null|       null|              null|              null|                null|                null|\n",
      "| The fund seeks t...| most often Ameri...|http://www.adviso...|            AADR.png|                null|           NYSE Arca|103161180|                null|                null|       null|              null|              null|                null|                null|\n",
      "|                 AAL|American Airlines...|   American Airlines|            Airlines|American Airlines...|   http://www.aa.com|  AAL.png|   W. Douglas Parker|Nasdaq Global Select|16940186209|       Industrials|       Industrials|            Airlines|                null|\n",
      "|                AAMC|Altisource Asset ...|Altisource Asset ...|    Asset Management|Altisource Asset ...|http://www.altiso...|     null|   George G. Ellison|       NYSE American|   44907363|Financial Services|Financial Services|    Asset Management|                null|\n",
      "|                AAME|Atlantic American...|   Atlantic American|    Insurance - Life|Atlantic American...|http://www.atlam.com|     null|    Hilton H. Howell|NASDAQ Global Market|   56558079|Financial Services|Financial Services|    Insurance - Life|                null|\n",
      "|                 AAN|        Aaron's Inc.|             Aaron's|Consulting & Outs...|Aaron's Inc is a ...|http://www.aarons...|  AAN.png|    John W. Robinson|New York Stock Ex...| 3677542512|       Industrials|       Industrials|Rental & Leasing ...|Consulting & Outs...|\n",
      "+--------------------+--------------------+--------------------+--------------------+--------------------+--------------------+---------+--------------------+--------------------+-----------+------------------+------------------+--------------------+--------------------+\n",
      "only showing top 10 rows\n",
      "\n"
     ]
    }
   ],
   "source": [
    "companies.show(10)"
   ]
  },
  {
   "cell_type": "code",
   "execution_count": 7,
   "metadata": {},
   "outputs": [
    {
     "name": "stdout",
     "output_type": "stream",
     "text": [
      "+--------------------+--------------------+--------------------+--------------------+--------------------+\n",
      "|            position|             company|         description|             reviews|            location|\n",
      "+--------------------+--------------------+--------------------+--------------------+--------------------+\n",
      "|Development Director|             ALS TDI|Development Director|                null|                null|\n",
      "|ALS Therapy Devel...| the Development ...| generating aware...| prospects and do...|                 GA.|\n",
      "|       Requirements:|                null|                null|                null|                null|\n",
      "|Bachelor's Degree...| written and pres...| as well as the a...|         spreadsheet|            database|\n",
      "|About ALS Therapy...|                null|                null|                null|                null|\n",
      "|The ALS Therapy D...| the charity unde...|  based in Cambridge|                  MA| has served as on...|\n",
      "|            To Apply|                null|                null|                null|                null|\n",
      "|Please apply at h...| salary requireme...|                null|                null|                null|\n",
      "|ALS TDI is an equ...|                null|  Atlanta, GA 30301 |                null|                null|\n",
      "|An Ostentatiously...|  The Hexagon Lavish|     Job Description|                null|                null|\n",
      "+--------------------+--------------------+--------------------+--------------------+--------------------+\n",
      "only showing top 10 rows\n",
      "\n"
     ]
    }
   ],
   "source": [
    "alldat.show(10)"
   ]
  },
  {
   "cell_type": "code",
   "execution_count": 8,
   "metadata": {},
   "outputs": [
    {
     "data": {
      "text/plain": [
       "['ticker',\n",
       " 'company name',\n",
       " 'short name',\n",
       " 'industry',\n",
       " 'description',\n",
       " 'website',\n",
       " 'logo',\n",
       " 'ceo',\n",
       " 'exchange',\n",
       " 'market cap',\n",
       " 'sector',\n",
       " 'tag 1',\n",
       " 'tag 2',\n",
       " 'tag 3']"
      ]
     },
     "execution_count": 8,
     "metadata": {},
     "output_type": "execute_result"
    }
   ],
   "source": [
    "companies.columns"
   ]
  },
  {
   "cell_type": "code",
   "execution_count": 9,
   "metadata": {},
   "outputs": [
    {
     "data": {
      "text/plain": [
       "['position', 'company', 'description', 'reviews', 'location']"
      ]
     },
     "execution_count": 9,
     "metadata": {},
     "output_type": "execute_result"
    }
   ],
   "source": [
    "alldat.columns"
   ]
  },
  {
   "cell_type": "code",
   "execution_count": 10,
   "metadata": {},
   "outputs": [],
   "source": [
    "all_companies = companies.join(alldat,companies['company name'] == alldat['company'], 'inner')"
   ]
  },
  {
   "cell_type": "code",
   "execution_count": 11,
   "metadata": {},
   "outputs": [
    {
     "name": "stdout",
     "output_type": "stream",
     "text": [
      "+--------------------+---------------+--------------------+--------------------+--------------------+--------------------+---------+---------+---------+----------+------+-----+-----+-----+--------------------+---------------+--------------------+-------------------+--------------------+\n",
      "|              ticker|   company name|          short name|            industry|         description|             website|     logo|      ceo| exchange|market cap|sector|tag 1|tag 2|tag 3|            position|        company|         description|            reviews|            location|\n",
      "+--------------------+---------------+--------------------+--------------------+--------------------+--------------------+---------+---------+---------+----------+------+-----+-----+-----+--------------------+---------------+--------------------+-------------------+--------------------+\n",
      "| The fund general...|         design| production or di...|http://www.invesc...|             PSJ.png|                null|NYSE Arca|300230000|     null|      null|  null| null| null| null|Experience follow...|         design|                code| and defect reviews|                null|\n",
      "| The fund general...|    development|         manufacture| sale or distribu...|http://www.invesc...|             PJP.png|     null|NYSE Arca|476136000|      null|  null| null| null| null|Facilitates the d...|    development| and planning of ...|               null|                null|\n",
      "| The fund general...|    development| manufacture and ...| services and pro...| etc. It is non-d...|http://www.invesc...|  PBE.png|     null|NYSE Arca| 283932000|  null| null| null| null|Facilitates the d...|    development| and planning of ...|               null|                null|\n",
      "| The Shares are i...| transportation| warehousing and ...| they provide inv...|http://www.etfsec...|            SGOL.png|     null|NYSE Arca|886515000|      null|  null| null| null| null|              Travel| transportation| and moving expen...|               null|                null|\n",
      "| The fund general...|    development|         manufacture| sale or distribu...|http://www.invesc...|             PJP.png|     null|NYSE Arca|476136000|      null|  null| null| null| null|Apply health scie...|    development| and conduct of s...|             causes| and risk factors...|\n",
      "+--------------------+---------------+--------------------+--------------------+--------------------+--------------------+---------+---------+---------+----------+------+-----+-----+-----+--------------------+---------------+--------------------+-------------------+--------------------+\n",
      "only showing top 5 rows\n",
      "\n"
     ]
    }
   ],
   "source": [
    "all_companies.show(5)"
   ]
  },
  {
   "cell_type": "code",
   "execution_count": 12,
   "metadata": {},
   "outputs": [],
   "source": [
    "def ngram_gen (dataset,column_name):\n",
    "    tokenizer = Tokenizer(inputCol = column_name, outputCol = 'token')\n",
    "    ngram = NGram(n = 2, inputCol = 'token', outputCol = 'ngram')\n",
    "    unigram = tokenizer.transform(dataset)\n",
    "    bigram = ngram.transform(unigram)\n",
    "    return unigram,bigram\n",
    "    "
   ]
  },
  {
   "cell_type": "code",
   "execution_count": null,
   "metadata": {},
   "outputs": [],
   "source": []
  },
  {
   "cell_type": "code",
   "execution_count": 13,
   "metadata": {},
   "outputs": [
    {
     "name": "stdout",
     "output_type": "stream",
     "text": [
      "+--------+\n",
      "|    city|\n",
      "+--------+\n",
      "|Atlanta,|\n",
      "|Atlanta,|\n",
      "|Atlanta,|\n",
      "|Atlanta,|\n",
      "|Atlanta,|\n",
      "+--------+\n",
      "only showing top 5 rows\n",
      "\n"
     ]
    }
   ],
   "source": [
    "null=alldat.select('location').dropna()\n",
    "dropped=null.select(F.split('location', ' ')[0].alias('city'))\n",
    "dropped_null = dropped[dropped.city.contains(',')]\n",
    "dropped_null.show(5)\n"
   ]
  },
  {
   "cell_type": "code",
   "execution_count": null,
   "metadata": {},
   "outputs": [],
   "source": []
  },
  {
   "cell_type": "code",
   "execution_count": 14,
   "metadata": {},
   "outputs": [
    {
     "name": "stdout",
     "output_type": "stream",
     "text": [
      "+-----------+---------+\n",
      "|       city|frequency|\n",
      "+-----------+---------+\n",
      "|Parsippany,|        1|\n",
      "|  Berkeley,|        1|\n",
      "|  Lynbrook,|        1|\n",
      "| Allendale,|        1|\n",
      "|Burlingame,|        1|\n",
      "|  Martinez,|        1|\n",
      "| Fairfield,|        1|\n",
      "|     Union,|        1|\n",
      "| Manhasset,|        1|\n",
      "|  Richmond,|        2|\n",
      "|   Hayward,|        2|\n",
      "|Emeryville,|        2|\n",
      "| Manhattan,|        2|\n",
      "|   Belmont,|        2|\n",
      "|  Brooklyn,|        3|\n",
      "+-----------+---------+\n",
      "only showing top 15 rows\n",
      "\n"
     ]
    }
   ],
   "source": [
    "dropped_null.createOrReplaceTempView('city')\n",
    "city_count = spark.sql(\"SELECT city, COUNT(city) AS frequency FROM city GROUP BY city ORDER BY frequency \")\n",
    "city_count.show(15)\n"
   ]
  },
  {
   "cell_type": "code",
   "execution_count": 15,
   "metadata": {},
   "outputs": [
    {
     "name": "stdout",
     "output_type": "stream",
     "text": [
      "+--------------------+---------+\n",
      "|            industry|frequency|\n",
      "+--------------------+---------+\n",
      "|                null|        0|\n",
      "| they provide inv...|        1|\n",
      "| of the S&P 500 I...|        1|\n",
      "|             DHS.png|        1|\n",
      "|              grains|        1|\n",
      "| of its total ass...|        1|\n",
      "| such as strong R...|        1|\n",
      "| such as converti...|        1|\n",
      "|             PIZ.png|        1|\n",
      "| and small U.S. c...|        1|\n",
      "+--------------------+---------+\n",
      "only showing top 10 rows\n",
      "\n"
     ]
    }
   ],
   "source": [
    "companies.createOrReplaceTempView('industry')\n",
    "industry_count = spark.sql(\"SELECT industry, COUNT(industry) AS frequency FROM industry GROUP BY industry ORDER BY frequency \")\n",
    "industry_count.show(10)"
   ]
  },
  {
   "cell_type": "code",
   "execution_count": 16,
   "metadata": {},
   "outputs": [],
   "source": [
    "def sparkset ():\n",
    "    city_freq_ngram = ngram_gen(city_count, 'city')[1]\n",
    "    companies_ngram = ngram_gen(industry_count, 'industry')[1]\n",
    "    return city_freq_ngram , companies_ngram"
   ]
  },
  {
   "cell_type": "code",
   "execution_count": 17,
   "metadata": {},
   "outputs": [
    {
     "name": "stdout",
     "output_type": "stream",
     "text": [
      "+-----------+---------+-------------+-----+\n",
      "|       city|frequency|        token|ngram|\n",
      "+-----------+---------+-------------+-----+\n",
      "| Manhasset,|        1| [manhasset,]|   []|\n",
      "|     Union,|        1|     [union,]|   []|\n",
      "|  Lynbrook,|        1|  [lynbrook,]|   []|\n",
      "|  Berkeley,|        1|  [berkeley,]|   []|\n",
      "|  Martinez,|        1|  [martinez,]|   []|\n",
      "| Allendale,|        1| [allendale,]|   []|\n",
      "| Fairfield,|        1| [fairfield,]|   []|\n",
      "|Burlingame,|        1|[burlingame,]|   []|\n",
      "|Parsippany,|        1|[parsippany,]|   []|\n",
      "|  Richmond,|        2|  [richmond,]|   []|\n",
      "|Emeryville,|        2|[emeryville,]|   []|\n",
      "|   Hayward,|        2|   [hayward,]|   []|\n",
      "|   Belmont,|        2|   [belmont,]|   []|\n",
      "| Manhattan,|        2| [manhattan,]|   []|\n",
      "|  Brooklyn,|        3|  [brooklyn,]|   []|\n",
      "|   Alameda,|        4|   [alameda,]|   []|\n",
      "|   Boulder,|        8|   [boulder,]|   []|\n",
      "|   Oakland,|        9|   [oakland,]|   []|\n",
      "|   Redmond,|       17|   [redmond,]|   []|\n",
      "| Sunnyvale,|       20| [sunnyvale,]|   []|\n",
      "+-----------+---------+-------------+-----+\n",
      "only showing top 20 rows\n",
      "\n"
     ]
    }
   ],
   "source": [
    "sparkset()[0].show()"
   ]
  },
  {
   "cell_type": "code",
   "execution_count": null,
   "metadata": {},
   "outputs": [],
   "source": []
  }
 ],
 "metadata": {
  "kernelspec": {
   "display_name": "Python 3",
   "language": "python",
   "name": "python3"
  },
  "language_info": {
   "codemirror_mode": {
    "name": "ipython",
    "version": 3
   },
   "file_extension": ".py",
   "mimetype": "text/x-python",
   "name": "python",
   "nbconvert_exporter": "python",
   "pygments_lexer": "ipython3",
   "version": "3.7.4"
  }
 },
 "nbformat": 4,
 "nbformat_minor": 4
}
